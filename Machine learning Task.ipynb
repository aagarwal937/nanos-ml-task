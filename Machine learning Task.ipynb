{
 "cells": [
  {
   "cell_type": "markdown",
   "metadata": {},
   "source": [
    "# Scraping the text from the link using Selenium"
   ]
  },
  {
   "cell_type": "code",
   "execution_count": 1,
   "metadata": {},
   "outputs": [],
   "source": [
    "from selenium import webdriver\n",
    "from selenium.common.exceptions import NoSuchElementException\n",
    "import os.path\n",
    "from os import path\n",
    "import time\n",
    "import re"
   ]
  },
  {
   "cell_type": "code",
   "execution_count": 2,
   "metadata": {},
   "outputs": [],
   "source": [
    "currentDirectory = os.getcwd()\n",
    "options = webdriver.ChromeOptions()\n",
    "prefs = {\n",
    "\"download.default_directory\": currentDirectory,\n",
    "\"download.prompt_for_download\": False,\n",
    "\"download.directory_upgrade\": True\n",
    "}\n",
    "options.add_experimental_option('prefs', prefs)\n"
   ]
  },
  {
   "cell_type": "code",
   "execution_count": 3,
   "metadata": {},
   "outputs": [],
   "source": [
    "browser = webdriver.Chrome(options=options, executable_path=currentDirectory+'/chromedriver')"
   ]
  },
  {
   "cell_type": "code",
   "execution_count": 4,
   "metadata": {},
   "outputs": [],
   "source": [
    "def get_details(url='https://huubsh.com/l/gibson-slash-les-paul-standard-november--3569'):\n",
    "    browser.get(url)\n",
    "    time.sleep(2)\n",
    "    try:\n",
    "        title = browser.find_element_by_xpath('/html/body/app-root/mat-sidenav-container/mat-sidenav-content/app-landing/app-landing-page/div[1]/p').text\n",
    "        sub_title = browser.find_element_by_xpath('/html/body/app-root/mat-sidenav-container/mat-sidenav-content/app-landing/app-landing-page/div[2]/p').text\n",
    "        description = browser.find_element_by_xpath('/html/body/app-root/mat-sidenav-container/mat-sidenav-content/app-landing/app-landing-page/div[3]/div').text\n",
    "    except NoSuchElementException:\n",
    "        return 'Not Found'\n",
    "    return title, sub_title, description\n",
    "    "
   ]
  },
  {
   "cell_type": "code",
   "execution_count": 5,
   "metadata": {
    "scrolled": true
   },
   "outputs": [
    {
     "data": {
      "text/plain": [
       "('Gitarren Total Zurich',\n",
       " 'Beware of the axe!',\n",
       " 'GUITAR SERVICE\\nMitten in Zürich bietet Gitarren Total dir einen professionellen und zuverlässigen Reparaturservice für Bässe, akustische und elektrische Gitarren. Ob kleiner Check-up oder grosse Operation: Wir untersuchen deine Liebste auf Body und Saiten – und holen Klänge aus deinem Instrument, die du niemals darin vermutet hättest.\\nReparaturen und Service: Halsbruch, Winterschaden oder ganz normale Abnutzungserscheinungen? Bünde abrichten oder Neubundierung, PUs wechseln, Intonation oder Halsstab einstellen? Die Ausstattung unserer Werkstatt und unsere Erfahrung erlauben uns alles vom einfachen Service bis zur anspruchsvollen Reparatur. Gerne machen wir dir auch einen Kostenvoranschlag.\\nNEUBUNDIERUNG\\nDie Bespielbarkeit eines Instrumentes hängt wesentlich von der Qualität der Neubundierung ab. Wir verwandeln deine abgekämpfte Lieblingsgitarre in ein makellos bespielbares Instrument. Auf besondere Wünsche wie speziellen Bunddraht, einen kompensierten Griffbrettradius und andere Finessen gehen wir gerne ein.\\nLACKIERUNG\\nLack ab? Lackschäden, falsche Lackwahl oder Lackiertechnik sind nicht nur ein ästhetisches Problem. Der Lack hat auch wesentlichen Einfluss auf den Klang. In unserer Lackierwerkstatt bieten wir sämtliche Lackierverfahren in hervorragender Qualität – von der alten Schelak(french polish)-Lackierung über Nitro- und DD- bis zu Polyester-Lackierungen. Kleinere Unfälle machen wir mit einer fachgerechten Retouche unsichtbar.\\nCUSTOM SHOP\\nDu träumst von heissen Kurven? Ganz normal. Du träumst von heissen Kurven mit Saiten? Dann bist du ein Fall für den Custom Shop. Wir planen und bauen dein individuelles Instrument – und schrecken auch vor deinen geheimsten Wünschen nicht zurück. Natürlich sind wir auch für kleinere Umbauten wie PU-, Mechanik- oder Tremolo-Wechsel zu haben.\\nRESTAURATION\\nHat deine alte Liebe ein paar Risse bekommen? Wir lassen dein Instrument in neuem Glanz erstrahlen – und erklingen! Fehlt dir ein Ersatzteil für dein Vintage-Instrument? Wir beschaffen das Originalteil oder finden andere Wege, dem Originalzustand möglichst nahe zu kommen.')"
      ]
     },
     "execution_count": 5,
     "metadata": {},
     "output_type": "execute_result"
    }
   ],
   "source": [
    "get_details(url='https://huubsh.com/l/gibson-slash-les-paul-standard-november--3569')"
   ]
  },
  {
   "cell_type": "markdown",
   "metadata": {},
   "source": [
    "# Saving the scraped text from the link in the scrape.csv and creating a Dataframe"
   ]
  },
  {
   "cell_type": "code",
   "execution_count": 6,
   "metadata": {},
   "outputs": [],
   "source": [
    "import pandas as pd\n",
    "import numpy as np\n",
    "import seaborn as sns\n",
    "import matplotlib.pyplot as plt\n",
    "%matplotlib inline"
   ]
  },
  {
   "cell_type": "code",
   "execution_count": 7,
   "metadata": {
    "scrolled": true
   },
   "outputs": [
    {
     "data": {
      "text/html": [
       "<div>\n",
       "<style scoped>\n",
       "    .dataframe tbody tr th:only-of-type {\n",
       "        vertical-align: middle;\n",
       "    }\n",
       "\n",
       "    .dataframe tbody tr th {\n",
       "        vertical-align: top;\n",
       "    }\n",
       "\n",
       "    .dataframe thead th {\n",
       "        text-align: right;\n",
       "    }\n",
       "</style>\n",
       "<table border=\"1\" class=\"dataframe\">\n",
       "  <thead>\n",
       "    <tr style=\"text-align: right;\">\n",
       "      <th></th>\n",
       "      <th>url</th>\n",
       "    </tr>\n",
       "  </thead>\n",
       "  <tbody>\n",
       "    <tr>\n",
       "      <th>0</th>\n",
       "      <td>https://huubsh.com/l/gibson-slash-les-paul-sta...</td>\n",
       "    </tr>\n",
       "  </tbody>\n",
       "</table>\n",
       "</div>"
      ],
      "text/plain": [
       "                                                 url\n",
       "0  https://huubsh.com/l/gibson-slash-les-paul-sta..."
      ]
     },
     "execution_count": 7,
     "metadata": {},
     "output_type": "execute_result"
    }
   ],
   "source": [
    "df = pd.read_csv('E:/nanos ML project/scrape.csv')\n",
    "df"
   ]
  },
  {
   "cell_type": "code",
   "execution_count": 8,
   "metadata": {
    "scrolled": true
   },
   "outputs": [
    {
     "data": {
      "text/html": [
       "<div>\n",
       "<style scoped>\n",
       "    .dataframe tbody tr th:only-of-type {\n",
       "        vertical-align: middle;\n",
       "    }\n",
       "\n",
       "    .dataframe tbody tr th {\n",
       "        vertical-align: top;\n",
       "    }\n",
       "\n",
       "    .dataframe thead th {\n",
       "        text-align: right;\n",
       "    }\n",
       "</style>\n",
       "<table border=\"1\" class=\"dataframe\">\n",
       "  <thead>\n",
       "    <tr style=\"text-align: right;\">\n",
       "      <th></th>\n",
       "      <th>url</th>\n",
       "      <th>text</th>\n",
       "    </tr>\n",
       "  </thead>\n",
       "  <tbody>\n",
       "    <tr>\n",
       "      <th>0</th>\n",
       "      <td>https://huubsh.com/l/gibson-slash-les-paul-sta...</td>\n",
       "      <td>(Gitarren Total Zurich, Beware of the axe!, GU...</td>\n",
       "    </tr>\n",
       "  </tbody>\n",
       "</table>\n",
       "</div>"
      ],
      "text/plain": [
       "                                                 url  \\\n",
       "0  https://huubsh.com/l/gibson-slash-les-paul-sta...   \n",
       "\n",
       "                                                text  \n",
       "0  (Gitarren Total Zurich, Beware of the axe!, GU...  "
      ]
     },
     "execution_count": 8,
     "metadata": {},
     "output_type": "execute_result"
    }
   ],
   "source": [
    "df[['text']] = df['url'].apply(get_details)\n",
    "df"
   ]
  },
  {
   "cell_type": "code",
   "execution_count": 9,
   "metadata": {},
   "outputs": [
    {
     "name": "stdout",
     "output_type": "stream",
     "text": [
      "<class 'pandas.core.frame.DataFrame'>\n",
      "RangeIndex: 1 entries, 0 to 0\n",
      "Data columns (total 2 columns):\n",
      " #   Column  Non-Null Count  Dtype \n",
      "---  ------  --------------  ----- \n",
      " 0   url     1 non-null      object\n",
      " 1   text    1 non-null      object\n",
      "dtypes: object(2)\n",
      "memory usage: 144.0+ bytes\n"
     ]
    }
   ],
   "source": [
    "df.info()"
   ]
  },
  {
   "cell_type": "code",
   "execution_count": 10,
   "metadata": {},
   "outputs": [],
   "source": [
    "df['text'] = df.text.astype(str)"
   ]
  },
  {
   "cell_type": "code",
   "execution_count": 11,
   "metadata": {
    "scrolled": true
   },
   "outputs": [
    {
     "data": {
      "text/plain": [
       "\"('Gitarren Total Zurich', 'Beware of the axe!', 'GUITAR SERVICE\\\\nMitten in Zürich bietet Gitarren Total dir einen professionellen und zuverlässigen Reparaturservice für Bässe, akustische und elektrische Gitarren. Ob kleiner Check-up oder grosse Operation: Wir untersuchen deine Liebste auf Body und Saiten – und holen Klänge aus deinem Instrument, die du niemals darin vermutet hättest.\\\\nReparaturen und Service: Halsbruch, Winterschaden oder ganz normale Abnutzungserscheinungen? Bünde abrichten oder Neubundierung, PUs wechseln, Intonation oder Halsstab einstellen? Die Ausstattung unserer Werkstatt und unsere Erfahrung erlauben uns alles vom einfachen Service bis zur anspruchsvollen Reparatur. Gerne machen wir dir auch einen Kostenvoranschlag.\\\\nNEUBUNDIERUNG\\\\nDie Bespielbarkeit eines Instrumentes hängt wesentlich von der Qualität der Neubundierung ab. Wir verwandeln deine abgekämpfte Lieblingsgitarre in ein makellos bespielbares Instrument. Auf besondere Wünsche wie speziellen Bunddraht, einen kompensierten Griffbrettradius und andere Finessen gehen wir gerne ein.\\\\nLACKIERUNG\\\\nLack ab? Lackschäden, falsche Lackwahl oder Lackiertechnik sind nicht nur ein ästhetisches Problem. Der Lack hat auch wesentlichen Einfluss auf den Klang. In unserer Lackierwerkstatt bieten wir sämtliche Lackierverfahren in hervorragender Qualität – von der alten Schelak(french polish)-Lackierung über Nitro- und DD- bis zu Polyester-Lackierungen. Kleinere Unfälle machen wir mit einer fachgerechten Retouche unsichtbar.\\\\nCUSTOM SHOP\\\\nDu träumst von heissen Kurven? Ganz normal. Du träumst von heissen Kurven mit Saiten? Dann bist du ein Fall für den Custom Shop. Wir planen und bauen dein individuelles Instrument – und schrecken auch vor deinen geheimsten Wünschen nicht zurück. Natürlich sind wir auch für kleinere Umbauten wie PU-, Mechanik- oder Tremolo-Wechsel zu haben.\\\\nRESTAURATION\\\\nHat deine alte Liebe ein paar Risse bekommen? Wir lassen dein Instrument in neuem Glanz erstrahlen – und erklingen! Fehlt dir ein Ersatzteil für dein Vintage-Instrument? Wir beschaffen das Originalteil oder finden andere Wege, dem Originalzustand möglichst nahe zu kommen.')\""
      ]
     },
     "execution_count": 11,
     "metadata": {},
     "output_type": "execute_result"
    }
   ],
   "source": [
    "df['text'][0]"
   ]
  },
  {
   "cell_type": "markdown",
   "metadata": {},
   "source": [
    "# Extracting the most relevant words from the webpage using NLP"
   ]
  },
  {
   "cell_type": "code",
   "execution_count": 12,
   "metadata": {},
   "outputs": [],
   "source": [
    "import nltk\n",
    "from nltk.corpus import stopwords\n",
    "from nltk.stem.porter import PorterStemmer\n",
    "from nltk.tokenize import RegexpTokenizer\n",
    "from nltk.stem.wordnet import WordNetLemmatizer"
   ]
  },
  {
   "cell_type": "code",
   "execution_count": 13,
   "metadata": {},
   "outputs": [
    {
     "name": "stderr",
     "output_type": "stream",
     "text": [
      "[nltk_data] Downloading package stopwords to\n",
      "[nltk_data]     C:\\Users\\aagar\\AppData\\Roaming\\nltk_data...\n",
      "[nltk_data]   Package stopwords is already up-to-date!\n",
      "[nltk_data] Downloading package wordnet to\n",
      "[nltk_data]     C:\\Users\\aagar\\AppData\\Roaming\\nltk_data...\n",
      "[nltk_data]   Package wordnet is already up-to-date!\n"
     ]
    },
    {
     "data": {
      "text/plain": [
       "True"
      ]
     },
     "execution_count": 13,
     "metadata": {},
     "output_type": "execute_result"
    }
   ],
   "source": [
    "nltk.download('stopwords')\n",
    "nltk.download('wordnet')"
   ]
  },
  {
   "cell_type": "code",
   "execution_count": 14,
   "metadata": {
    "scrolled": true
   },
   "outputs": [
    {
     "name": "stdout",
     "output_type": "stream",
     "text": [
      "['a', 'about', 'above', 'after', 'again', 'against', 'ain', 'all', 'am', 'an', 'and', 'any', 'are', 'aren', \"aren't\", 'as', 'at', 'be', 'because', 'been', 'before', 'being', 'below', 'between', 'both', 'but', 'by', 'can', 'couldn', \"couldn't\", 'd', 'did', 'didn', \"didn't\", 'do', 'does', 'doesn', \"doesn't\", 'doing', 'don', \"don't\", 'down', 'during', 'each', 'few', 'for', 'from', 'further', 'had', 'hadn', \"hadn't\", 'has', 'hasn', \"hasn't\", 'have', 'haven', \"haven't\", 'having', 'he', 'her', 'here', 'hers', 'herself', 'him', 'himself', 'his', 'how', 'i', 'if', 'in', 'into', 'is', 'isn', \"isn't\", 'it', \"it's\", 'its', 'itself', 'just', 'll', 'm', 'ma', 'me', 'mightn', \"mightn't\", 'more', 'most', 'mustn', \"mustn't\", 'my', 'myself', 'needn', \"needn't\", 'no', 'nor', 'not', 'now', 'o', 'of', 'off', 'on', 'once', 'only', 'or', 'other', 'our', 'ours', 'ourselves', 'out', 'over', 'own', 're', 's', 'same', 'shan', \"shan't\", 'she', \"she's\", 'should', \"should've\", 'shouldn', \"shouldn't\", 'so', 'some', 'such', 't', 'than', 'that', \"that'll\", 'the', 'their', 'theirs', 'them', 'themselves', 'then', 'there', 'these', 'they', 'this', 'those', 'through', 'to', 'too', 'under', 'until', 'up', 've', 'very', 'was', 'wasn', \"wasn't\", 'we', 'were', 'weren', \"weren't\", 'what', 'when', 'where', 'which', 'while', 'who', 'whom', 'why', 'will', 'with', 'won', \"won't\", 'wouldn', \"wouldn't\", 'y', 'you', \"you'd\", \"you'll\", \"you're\", \"you've\", 'your', 'yours', 'yourself', 'yourselves']\n"
     ]
    }
   ],
   "source": [
    "stop_words = set(stopwords.words(\"english\"))\n",
    "print(sorted(stop_words))"
   ]
  },
  {
   "cell_type": "code",
   "execution_count": 15,
   "metadata": {},
   "outputs": [
    {
     "name": "stdout",
     "output_type": "stream",
     "text": [
      "['aber', 'alle', 'allem', 'allen', 'aller', 'alles', 'als', 'also', 'am', 'an', 'ander', 'andere', 'anderem', 'anderen', 'anderer', 'anderes', 'anderm', 'andern', 'anderr', 'anders', 'auch', 'auf', 'aus', 'bei', 'bin', 'bis', 'bist', 'da', 'damit', 'dann', 'das', 'dass', 'dasselbe', 'dazu', 'daß', 'dein', 'deine', 'deinem', 'deinen', 'deiner', 'deines', 'dem', 'demselben', 'den', 'denn', 'denselben', 'der', 'derer', 'derselbe', 'derselben', 'des', 'desselben', 'dessen', 'dich', 'die', 'dies', 'diese', 'dieselbe', 'dieselben', 'diesem', 'diesen', 'dieser', 'dieses', 'dir', 'doch', 'dort', 'du', 'durch', 'ein', 'eine', 'einem', 'einen', 'einer', 'eines', 'einig', 'einige', 'einigem', 'einigen', 'einiger', 'einiges', 'einmal', 'er', 'es', 'etwas', 'euch', 'euer', 'eure', 'eurem', 'euren', 'eurer', 'eures', 'für', 'gegen', 'gewesen', 'hab', 'habe', 'haben', 'hat', 'hatte', 'hatten', 'hier', 'hin', 'hinter', 'ich', 'ihm', 'ihn', 'ihnen', 'ihr', 'ihre', 'ihrem', 'ihren', 'ihrer', 'ihres', 'im', 'in', 'indem', 'ins', 'ist', 'jede', 'jedem', 'jeden', 'jeder', 'jedes', 'jene', 'jenem', 'jenen', 'jener', 'jenes', 'jetzt', 'kann', 'kein', 'keine', 'keinem', 'keinen', 'keiner', 'keines', 'können', 'könnte', 'machen', 'man', 'manche', 'manchem', 'manchen', 'mancher', 'manches', 'mein', 'meine', 'meinem', 'meinen', 'meiner', 'meines', 'mich', 'mir', 'mit', 'muss', 'musste', 'nach', 'nicht', 'nichts', 'noch', 'nun', 'nur', 'ob', 'oder', 'ohne', 'sehr', 'sein', 'seine', 'seinem', 'seinen', 'seiner', 'seines', 'selbst', 'sich', 'sie', 'sind', 'so', 'solche', 'solchem', 'solchen', 'solcher', 'solches', 'soll', 'sollte', 'sondern', 'sonst', 'um', 'und', 'uns', 'unser', 'unsere', 'unserem', 'unseren', 'unseres', 'unter', 'viel', 'vom', 'von', 'vor', 'war', 'waren', 'warst', 'was', 'weg', 'weil', 'weiter', 'welche', 'welchem', 'welchen', 'welcher', 'welches', 'wenn', 'werde', 'werden', 'wie', 'wieder', 'will', 'wir', 'wird', 'wirst', 'wo', 'wollen', 'wollte', 'während', 'würde', 'würden', 'zu', 'zum', 'zur', 'zwar', 'zwischen', 'über']\n"
     ]
    }
   ],
   "source": [
    "stop_words = set(stopwords.words(\"german\"))\n",
    "print(sorted(stop_words))"
   ]
  },
  {
   "cell_type": "markdown",
   "metadata": {},
   "source": [
    "# Pre-process the data to get a cleaned, normalized text corpus"
   ]
  },
  {
   "cell_type": "code",
   "execution_count": 16,
   "metadata": {},
   "outputs": [],
   "source": [
    "corpus = []\n",
    "ds_count = len(df.text)\n",
    "for i in range(0, ds_count):\n",
    "    # Remove punctuation\n",
    "    text = re.sub('[^a-zA-Z]', ' ', str(df['text'][i]))\n",
    "    \n",
    "    # Convert to lowercase\n",
    "    text = text.lower()\n",
    "    \n",
    "    # Remove tags\n",
    "    text=re.sub(\"&lt;/?.*?&gt;\",\" &lt;&gt; \",text)\n",
    "    \n",
    "    # Remove special characters and digits\n",
    "    text=re.sub(\"(\\\\d|\\\\W)+\",\" \",text)\n",
    "    \n",
    "    # Convert to list from string\n",
    "    text = text.split()\n",
    "    \n",
    "    # Stemming\n",
    "    ps=PorterStemmer()\n",
    "    \n",
    "    # Lemmatisation\n",
    "    lem = WordNetLemmatizer()\n",
    "    text = [lem.lemmatize(word) for word in text if not word in  \n",
    "            stop_words] \n",
    "    text = \" \".join(text)\n",
    "    corpus.append(text)"
   ]
  },
  {
   "cell_type": "markdown",
   "metadata": {},
   "source": [
    "# vectorizing the corpus"
   ]
  },
  {
   "cell_type": "code",
   "execution_count": 17,
   "metadata": {},
   "outputs": [],
   "source": [
    "from sklearn.feature_extraction.text import CountVectorizer\n",
    "cv=CountVectorizer(stop_words=stop_words)\n",
    "X=cv.fit_transform(corpus)"
   ]
  },
  {
   "cell_type": "code",
   "execution_count": 18,
   "metadata": {},
   "outputs": [
    {
     "name": "stdout",
     "output_type": "stream",
     "text": [
      "  (0, 47)\t3\n",
      "  (0, 138)\t2\n",
      "  (0, 159)\t1\n",
      "  (0, 17)\t1\n",
      "  (0, 110)\t1\n",
      "  (0, 137)\t1\n",
      "  (0, 9)\t1\n",
      "  (0, 52)\t1\n",
      "  (0, 131)\t3\n",
      "  (0, 102)\t1\n",
      "  (0, 125)\t1\n",
      "  (0, 19)\t1\n",
      "  (0, 119)\t1\n",
      "  (0, 160)\t1\n",
      "  (0, 135)\t1\n",
      "  (0, 123)\t1\n",
      "  (0, 134)\t1\n",
      "  (0, 4)\t1\n",
      "  (0, 30)\t1\n",
      "  (0, 64)\t1\n",
      "  (0, 22)\t1\n",
      "  (0, 148)\t1\n",
      "  (0, 51)\t1\n",
      "  (0, 111)\t1\n",
      "  (0, 147)\t1\n",
      "  :\t:\n",
      "  (0, 140)\t1\n",
      "  (0, 152)\t1\n",
      "  (0, 107)\t1\n",
      "  (0, 97)\t1\n",
      "  (0, 5)\t1\n",
      "  (0, 79)\t1\n",
      "  (0, 114)\t1\n",
      "  (0, 126)\t1\n",
      "  (0, 11)\t1\n",
      "  (0, 78)\t1\n",
      "  (0, 94)\t1\n",
      "  (0, 48)\t1\n",
      "  (0, 35)\t1\n",
      "  (0, 32)\t1\n",
      "  (0, 39)\t1\n",
      "  (0, 34)\t1\n",
      "  (0, 151)\t1\n",
      "  (0, 13)\t1\n",
      "  (0, 112)\t1\n",
      "  (0, 40)\t1\n",
      "  (0, 154)\t1\n",
      "  (0, 113)\t1\n",
      "  (0, 49)\t1\n",
      "  (0, 87)\t1\n",
      "  (0, 66)\t1\n"
     ]
    }
   ],
   "source": [
    "print(X)"
   ]
  },
  {
   "cell_type": "code",
   "execution_count": 19,
   "metadata": {},
   "outputs": [
    {
     "data": {
      "text/plain": [
       "['gitarren',\n",
       " 'total',\n",
       " 'zurich',\n",
       " 'beware',\n",
       " 'of',\n",
       " 'the',\n",
       " 'axe',\n",
       " 'guitar',\n",
       " 'service',\n",
       " 'nmitten']"
      ]
     },
     "execution_count": 19,
     "metadata": {},
     "output_type": "execute_result"
    }
   ],
   "source": [
    "list(cv.vocabulary_.keys())[:10]"
   ]
  },
  {
   "cell_type": "markdown",
   "metadata": {},
   "source": [
    "# View most frequently occuring keywords"
   ]
  },
  {
   "cell_type": "code",
   "execution_count": 20,
   "metadata": {},
   "outputs": [],
   "source": [
    "def get_top_n_words(corpus, n=None):\n",
    "    vec = CountVectorizer().fit(corpus)\n",
    "    bag_of_words = vec.transform(corpus)\n",
    "    sum_words = bag_of_words.sum(axis=0) \n",
    "    words_freq = [(word, sum_words[0, idx]) for word, idx in      \n",
    "                   vec.vocabulary_.items()]\n",
    "    words_freq =sorted(words_freq, key = lambda x: x[1], \n",
    "                       reverse=True)\n",
    "    return words_freq[:n]"
   ]
  },
  {
   "cell_type": "markdown",
   "metadata": {},
   "source": [
    "# Convert most freq words to dataframe for plotting bar graph"
   ]
  },
  {
   "cell_type": "code",
   "execution_count": 21,
   "metadata": {},
   "outputs": [
    {
     "name": "stdout",
     "output_type": "stream",
     "text": [
      "         Keyword  Frequency\n",
      "0     instrument          5\n",
      "1       gitarren          3\n",
      "2        service          3\n",
      "3          total          2\n",
      "4         saiten          2\n",
      "5           ganz          2\n",
      "6  neubundierung          2\n",
      "7             pu          2\n",
      "8        unserer          2\n",
      "9          gerne          2\n"
     ]
    }
   ],
   "source": [
    "top_words = get_top_n_words(corpus, n=10)\n",
    "top_df = pd.DataFrame(top_words)\n",
    "top_df.columns=[\"Keyword\", \"Frequency\"]\n",
    "print(top_df)"
   ]
  },
  {
   "cell_type": "markdown",
   "metadata": {},
   "source": [
    "# Barplot of most freq words"
   ]
  },
  {
   "cell_type": "code",
   "execution_count": 22,
   "metadata": {},
   "outputs": [
    {
     "data": {
      "text/plain": [
       "[Text(0, 0, 'instrument'),\n",
       " Text(1, 0, 'gitarren'),\n",
       " Text(2, 0, 'service'),\n",
       " Text(3, 0, 'total'),\n",
       " Text(4, 0, 'saiten'),\n",
       " Text(5, 0, 'ganz'),\n",
       " Text(6, 0, 'neubundierung'),\n",
       " Text(7, 0, 'pu'),\n",
       " Text(8, 0, 'unserer'),\n",
       " Text(9, 0, 'gerne')]"
      ]
     },
     "execution_count": 22,
     "metadata": {},
     "output_type": "execute_result"
    },
    {
     "data": {
      "image/png": "[encoded data removed]",
      "text/plain": [
       "<Figure size 936x576 with 1 Axes>"
      ]
     },
     "metadata": {},
     "output_type": "display_data"
    }
   ],
   "source": [
    "sns.set(rc={'figure.figsize':(13,8)})\n",
    "g = sns.barplot(x=\"Keyword\", y=\"Frequency\", data=top_df, palette=\"Blues_d\")\n",
    "g.set_xticklabels(g.get_xticklabels(), rotation=45)"
   ]
  },
  {
   "cell_type": "markdown",
   "metadata": {},
   "source": [
    "# Storing the top 10 words in the csv as output"
   ]
  },
  {
   "cell_type": "code",
   "execution_count": 23,
   "metadata": {},
   "outputs": [],
   "source": [
    "top_df.to_csv('relevant' + '_top_words.csv')"
   ]
  },
  {
   "cell_type": "code",
   "execution_count": null,
   "metadata": {},
   "outputs": [],
   "source": []
  }
 ],
 "metadata": {
  "kernelspec": {
   "display_name": "Python 3",
   "language": "python",
   "name": "python3"
  },
  "language_info": {
   "codemirror_mode": {
    "name": "ipython",
    "version": 3
   },
   "file_extension": ".py",
   "mimetype": "text/x-python",
   "name": "python",
   "nbconvert_exporter": "python",
   "pygments_lexer": "ipython3",
   "version": "3.8.5"
  }
 },
 "nbformat": 4,
 "nbformat_minor": 2
}
